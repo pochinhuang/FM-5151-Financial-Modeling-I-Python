{
 "cells": [
  {
   "cell_type": "code",
   "execution_count": 1,
   "metadata": {},
   "outputs": [],
   "source": [
    "import math\n",
    "import numpy as np\n",
    "from math import e\n",
    "from matplotlib import pyplot as plt\n",
    "from typing import Callable\n",
    "import random\n",
    "import pandas as pd\n",
    "from scipy.stats import norm"
   ]
  },
  {
   "cell_type": "markdown",
   "metadata": {},
   "source": [
    "$$1.\\; Prep work$$"
   ]
  },
  {
   "cell_type": "markdown",
   "metadata": {},
   "source": [
    "a) Evaluate I analytically (type your solution in LaTeX)"
   ]
  },
  {
   "cell_type": "markdown",
   "metadata": {},
   "source": [
    "$\\int_a^bf(20-x^2)dx = 20x - \\frac{x^3}{3}$\n",
    "\n",
    "$I = [20b - \\frac{b^3}{3}] - [20a - \\frac{a^3}{3}]$\n",
    "\n",
    "$I = 20b - \\frac{b^3}{3} - 20a + \\frac{a^3}{3}$"
   ]
  },
  {
   "cell_type": "markdown",
   "metadata": {},
   "source": [
    "b) Create a Python function for $f$ with signature\n",
    "\n",
    "f(x: float) → float"
   ]
  },
  {
   "cell_type": "code",
   "execution_count": 2,
   "metadata": {},
   "outputs": [],
   "source": [
    "def f(x: float):\n",
    "    return (20 - x**2)"
   ]
  },
  {
   "cell_type": "markdown",
   "metadata": {},
   "source": [
    "c) Create a Python function that evaluates the analytical solution to $I$ from a), with signature\n",
    "\n",
    "I(a: float, b: float) → float"
   ]
  },
  {
   "cell_type": "code",
   "execution_count": 3,
   "metadata": {},
   "outputs": [
    {
     "data": {
      "text/plain": [
       "70.66666666666667"
      ]
     },
     "execution_count": 3,
     "metadata": {},
     "output_type": "execute_result"
    }
   ],
   "source": [
    "def I(a: float, b: float):\n",
    "    return (20*b) - ((b**3) / 3) - (20 * a) + ((a**3) / 3)\n",
    "integral_true = I(-1,3)\n",
    "\n",
    "I(-1,3)"
   ]
  },
  {
   "cell_type": "markdown",
   "metadata": {},
   "source": [
    "$$2.\\; Basic\\; Monte\\; Carlo$$"
   ]
  },
  {
   "cell_type": "markdown",
   "metadata": {},
   "source": [
    "a) What is $\\mathbb{E}p[I_n^{basic}]$?"
   ]
  },
  {
   "cell_type": "markdown",
   "metadata": {},
   "source": [
    "$\\mathbb{E}p[I_n] = \\mathbb{E}[\\frac{1}{n}\\sum\\limits_{i=1}^n f(x_i) (b - a)]$\n",
    "\n",
    "$= \\frac{1}{n} \\cdot (b-a) \\cdot \\sum\\limits_{i=1}^n \\mathbb{E}[f(x_i)] $\n",
    "\n",
    "$= (b-a) \\int_{x \\in D} f(x)p(x)dx$\n",
    "\n",
    "$= (b-a)\\int_a^b f(x)\\frac{1}{b-a}dx$\n",
    "\n",
    "$= \\int_a^b f(x)dx$\n",
    "\n",
    "$= I$"
   ]
  },
  {
   "cell_type": "markdown",
   "metadata": {},
   "source": [
    "b) Create a function to compute $I_n^{basic}$ over an interval $a$, $b$ for number of samples $n$. The function signature should be:\n",
    "\n",
    "mc_basic(f: Callable[[float], float], a: float, b: float, n: int) → tuple[float, float]"
   ]
  },
  {
   "cell_type": "code",
   "execution_count": 4,
   "metadata": {},
   "outputs": [
    {
     "name": "stdout",
     "output_type": "stream",
     "text": [
      "70.60265607881868\n",
      "I_n^basic = 70.60265607881868\n",
      "Var(I_n^basic) = 0.0010869485142127162\n"
     ]
    }
   ],
   "source": [
    "def mc_basic(f: Callable[[float], float], a: float, b: float, n: int) -> tuple[float, float]:\n",
    "    sum_i_basic = 0\n",
    "    sum_i_basic_squared = 0\n",
    "    term_list = []\n",
    "    for _ in range(n):\n",
    "        xi = random.uniform(a, b)\n",
    "        term = f(xi) * (b - a)\n",
    "        term_list.append(term)\n",
    "        sum_i_basic += term\n",
    "        sum_i_basic_squared += term ** 2\n",
    "\n",
    "    i_basic = sum_i_basic / n\n",
    "\n",
    "    print(i_basic)\n",
    "    var_i_basic = np.var(term_list) / n #(sum_i_basic_squared / n - (i_basic) ** 2) / n\n",
    "\n",
    "    return i_basic, var_i_basic\n",
    "\n",
    "def f(x: float):\n",
    "    return (20 - x**2)\n",
    "\n",
    "a = -1\n",
    "b = 3\n",
    "n = 100000\n",
    "\n",
    "result, variance = mc_basic(f, a, b, n)\n",
    "\n",
    "print(\"I_n^basic =\", result)\n",
    "print(\"Var(I_n^basic) =\", variance)\n"
   ]
  },
  {
   "cell_type": "markdown",
   "metadata": {},
   "source": [
    "c) Normally we don’t have tractable solutions for the true variance of an estimator when doing Monte Carlo (we’d have to estimate it). However, \n",
    "this problem is simple enough where we can derive it."
   ]
  },
  {
   "cell_type": "markdown",
   "metadata": {},
   "source": [
    "$Var(I_n^{basic}) = \\frac{1}{n} Var(\\frac{f(x_i)}{p(x_i)})$\n",
    "\n",
    "$= \\frac{1}{n}[(b-a)E[f(x)^2]-[Ef(x)]^2] $\n",
    "\n",
    "$= \\frac{1}{n}[(b-a)(\\int_a^b(400-40x^2+x^4)-(\\int_a^b20-x^2)^2)] $\n",
    "\n",
    "$= \\frac{1}{n}[(b-a)(400b-\\frac{40b^3}{3}+\\frac{b^5}{5}-400a+\\frac{400a^3}{3}-\\frac{a^5}{5}) - (20b-\\frac{20b^3}{3}-20a+\\frac{a^3}{3})^2]$\n",
    "\n",
    "$= \\frac{1}{n}[(b-a)(400(b-a)-\\frac{40(b^3-a^3)}{3}+\\frac{b^5-a^5}{5})-(20(b-a)-\\frac{(b^3-a^3)}{3})]$"
   ]
  },
  {
   "cell_type": "markdown",
   "metadata": {},
   "source": [
    "d) Create a function for the true variance of the basic estimator. It should have signature\n",
    "\n",
    "mc_basic_variance_true(a: float, b: float, n: int) → float"
   ]
  },
  {
   "cell_type": "code",
   "execution_count": 24,
   "metadata": {},
   "outputs": [
    {
     "data": {
      "text/plain": [
       "0.0010808888888888851"
      ]
     },
     "execution_count": 24,
     "metadata": {},
     "output_type": "execute_result"
    }
   ],
   "source": [
    "def var(a: float, b: float, n: float):\n",
    "    t1 = (b-a)*(400*(b-a) - (40*(b**3 - a**3)/3) + (b**5-a**5)/5)\n",
    "    t2 = ((20*(b-a)) - ((b**3 - a**3)/3))**2\n",
    "    ans = (t1 - t2)* 1/n\n",
    "    \n",
    "    return ans\n",
    "true_sigma = var(-1,3,100000)\n",
    "true_sigma"
   ]
  },
  {
   "cell_type": "markdown",
   "metadata": {},
   "source": [
    "e) Using $I_n^{basic}$, $n = 100000$ samples, $a = 1-$ and $b = 3$ report the following metrics in a pandas DataFrame object."
   ]
  },
  {
   "cell_type": "code",
   "execution_count": 6,
   "metadata": {},
   "outputs": [
    {
     "name": "stdout",
     "output_type": "stream",
     "text": [
      "       integral_true  integral_estimate  difference  sigma^2_estimate/n  \\\n",
      "Basic      70.666667          70.602656    0.064011            0.001087   \n",
      "\n",
      "       sigma^estimate  sigma^2_true/n  sigma^2_true  \n",
      "Basic      108.694851        0.001081    108.088889  \n"
     ]
    }
   ],
   "source": [
    "idx = [\"Basic\"]\n",
    "data_basic = {'integral_true': [integral_true],\n",
    "        'integral_estimate': [result],\n",
    "        'difference': [integral_true - result],\n",
    "        'sigma^2_estimate/n': [variance],\n",
    "        'sigma^estimate': [variance*n],\n",
    "        'sigma^2_true/n': [true_sigma],\n",
    "        'sigma^2_true': [true_sigma*n]\n",
    "        }\n",
    "df_basic = pd.DataFrame(data_basic, idx)\n",
    "\n",
    "\n",
    "print(df_basic)"
   ]
  },
  {
   "cell_type": "markdown",
   "metadata": {},
   "source": [
    "$$3.\\; Antithetic\\; uniform\\; samples$$"
   ]
  },
  {
   "cell_type": "markdown",
   "metadata": {},
   "source": [
    "a) What is $\\mathbb{E}p[I_n^{Antithetic}]$?"
   ]
  },
  {
   "cell_type": "markdown",
   "metadata": {},
   "source": [
    "$y = \\frac{f(x_i)+f(x'_i)}{2}$\n",
    "\n",
    "$\\mathbb{E}[\\frac{f(x_i)+f(x'_i)}{2}] $\n",
    "\n",
    "$=\\mathbb{E}[f(x)]$"
   ]
  },
  {
   "cell_type": "markdown",
   "metadata": {},
   "source": [
    "$f(x'_i)$"
   ]
  },
  {
   "cell_type": "markdown",
   "metadata": {},
   "source": [
    "b) Create a function to compute $I_n^{Antithetic}$ over an interval $a$, $b$ for number of samples $n$. The function signature should be:"
   ]
  },
  {
   "cell_type": "code",
   "execution_count": 7,
   "metadata": {},
   "outputs": [
    {
     "name": "stdout",
     "output_type": "stream",
     "text": [
      "I_n^antithetic = 70.62277242605724\n",
      "Var(I_n^antithetic) = 0.00046019540580777177\n"
     ]
    }
   ],
   "source": [
    "from typing import Callable\n",
    "import random\n",
    "\n",
    "def mc_antithetic(f: Callable[[float], float], a: float, b: float, n: int):\n",
    "    sum_i_antithetic = 0\n",
    "    sum_i_antithetic_squared = 0\n",
    "\n",
    "    for _ in range(n //2):\n",
    "        xi = random.uniform(a, b)\n",
    "        xip = a + b - xi\n",
    "        term_antithetic = (f(xi) * (b - a)) + (f(xip) * (b - a))\n",
    "        sum_i_antithetic += term_antithetic / 2\n",
    "        sum_i_antithetic_squared += (term_antithetic/2) ** 2\n",
    "\n",
    "    i_antithetic = sum_i_antithetic * 2 / n  \n",
    "    var_i_antithetic = (sum_i_antithetic_squared *2/ n - (i_antithetic) ** 2) *2/ n\n",
    "\n",
    "    return i_antithetic, var_i_antithetic\n",
    "\n",
    "def f(x: float):\n",
    "    return (20 - x**2)\n",
    "\n",
    "a = -1\n",
    "b = 3\n",
    "n = 100000\n",
    "\n",
    "result_antithetic, variance_antithetic = mc_antithetic(f, a, b, n)\n",
    "\n",
    "print(\"I_n^antithetic =\", result_antithetic)\n",
    "print(\"Var(I_n^antithetic) =\", variance_antithetic)"
   ]
  },
  {
   "cell_type": "markdown",
   "metadata": {},
   "source": [
    "c) Using $I_n^{Antithetic}$, $n = 100000$ samples, $a = 1-$ and $b = 3$ report the following metrics in a pandas DataFrame object."
   ]
  },
  {
   "cell_type": "code",
   "execution_count": 8,
   "metadata": {},
   "outputs": [
    {
     "name": "stdout",
     "output_type": "stream",
     "text": [
      "            integral_true  integral_estimate  difference  sigma^2_estimate/n  \\\n",
      "Basic           70.666667          70.602656    0.064011            0.001087   \n",
      "Antithetic      70.666667          70.622772    0.043894            0.000460   \n",
      "\n",
      "            sigma^estimate  \n",
      "Basic           108.694851  \n",
      "Antithetic       46.019541  \n"
     ]
    }
   ],
   "source": [
    "idx = [\"Basic\",\"Antithetic\"]\n",
    "data_antithetic = {'integral_true': [integral_true, integral_true],\n",
    "        'integral_estimate': [result, result_antithetic],\n",
    "        'difference': [integral_true - result, integral_true - result_antithetic],\n",
    "        'sigma^2_estimate/n': [variance, variance_antithetic],\n",
    "        'sigma^estimate': [variance*n, variance_antithetic*n],\n",
    "        }\n",
    "df_antithetic = pd.DataFrame(data_antithetic, idx)\n",
    "\n",
    "\n",
    "print(df_antithetic)"
   ]
  },
  {
   "cell_type": "markdown",
   "metadata": {},
   "source": [
    "d) How do your results compare to the basic estimate? Is this what you expect?"
   ]
  },
  {
   "cell_type": "markdown",
   "metadata": {},
   "source": [
    "I_n^antithetic is slightly closer"
   ]
  },
  {
   "cell_type": "markdown",
   "metadata": {},
   "source": [
    "$$4.\\; Control\\; Variate$$"
   ]
  },
  {
   "cell_type": "markdown",
   "metadata": {},
   "source": [
    "a) What is $\\mathbb{E}p[I_n^{ComtrolVariate}]$?"
   ]
  },
  {
   "cell_type": "markdown",
   "metadata": {},
   "source": [
    "$I = \\int_{x \\in D}f(x)dx$\n",
    "\n",
    "$= \\int_{x \\in D}(f(x)-h(x))dx+\\int_{x \\in D}h(x)dx$\n",
    "\n",
    "$= \\int_{x \\in D}(f(x)-h(x))dx+H$\n",
    "\n",
    "$I_n=\\frac{1}{n}\\sum\\limits_{i=1}^n \\frac{f(x_i)-h(x_i)}{p(x_i)}+H$\n",
    "\n",
    "$\\mathbb{E}[I_n]=I$"
   ]
  },
  {
   "cell_type": "markdown",
   "metadata": {},
   "source": [
    "b) Implement functions for the control variates and their integrals"
   ]
  },
  {
   "cell_type": "code",
   "execution_count": 9,
   "metadata": {},
   "outputs": [],
   "source": [
    "def h1(x: float):\n",
    "    return 20 * np.cos(x / 3)\n",
    "\n",
    "def h2(x: float):\n",
    "    return 20 * np.sin(x / 3)\n",
    "\n",
    "def H1(a: float, b: float):\n",
    "    return (20 * 3 * np.sin(b / 3)) - (20 * 3 * np.sin(a / 3))\n",
    "\n",
    "def H2(a: float, b: float):\n",
    "    return (-20 * 3 * np.cos(b / 3)) - (-20 * 3 * np.cos(a / 3))\n",
    "\n"
   ]
  },
  {
   "cell_type": "markdown",
   "metadata": {},
   "source": [
    "c) Create a function to compute $I_n^{Control Variate}$ over an interval $a$, $b$ for number of samples $n$. The function signature should be:"
   ]
  },
  {
   "cell_type": "code",
   "execution_count": 10,
   "metadata": {},
   "outputs": [
    {
     "name": "stdout",
     "output_type": "stream",
     "text": [
      "I_n^_control_variate = 70.66801945020335\n",
      "Var(I_n^_control_variate) = 0.20254091433107949\n"
     ]
    }
   ],
   "source": [
    "def mc_control_variate1(f: Callable[[float], float], a: float, b: float, n: int, h: Callable[[float], float], H: Callable[[float, float], float]):\n",
    "    sum_i_control_variate = 0\n",
    "    sum_i_control_variate_squared = 0\n",
    "    term_list1 = []\n",
    "\n",
    "    for _ in range(n):\n",
    "        xi = random.uniform(a, b)\n",
    "        term = (f(xi) - h1(xi)) * (b - a) + H1(a, b)\n",
    "        term_list1.append(term)\n",
    "        sum_i_control_variate += term\n",
    "        sum_i_control_variate_squared += term ** 2\n",
    "\n",
    "    i_control_variate_1 = sum_i_control_variate / n  \n",
    "\n",
    "    \n",
    "    var_i_control_variate_1 = np.var(term_list1) #(sum_i_control_variate_squared / n - (i_control_variate) ** 2) / n\n",
    "\n",
    "    return i_control_variate_1, var_i_control_variate_1\n",
    "\n",
    "\n",
    "\n",
    "a = -1\n",
    "b = 3\n",
    "n = 100000\n",
    "h = h1\n",
    "H = H1\n",
    "\n",
    "result_control_variate_1, variance_control_variate_1 = mc_control_variate1(f, a, b, n, h, H)\n",
    "\n",
    "print(\"I_n^_control_variate =\", result_control_variate_1)\n",
    "print(\"Var(I_n^_control_variate) =\", variance_control_variate_1)\n"
   ]
  },
  {
   "cell_type": "code",
   "execution_count": 11,
   "metadata": {},
   "outputs": [
    {
     "name": "stdout",
     "output_type": "stream",
     "text": [
      "I_n^_control_variate = 70.71188411491308\n",
      "Var(I_n^_control_variate) = 0.01377862897632403\n"
     ]
    }
   ],
   "source": [
    "from typing import Callable\n",
    "import random\n",
    "\n",
    "def mc_control_variate(f: Callable[[float], float], a: float, b: float, n: int, h: Callable[[float], float], H: Callable[[float, float], float]):\n",
    "    sum_i_control_variate = 0\n",
    "    sum_i_control_variate_squared = 0\n",
    "    term_list2 = []\n",
    "\n",
    "    for _ in range(n):\n",
    "        xi = random.uniform(a, b)\n",
    "        term2 = (f(xi) - h2(xi)) * (b - a) + H2(a, b)\n",
    "        term_list2.append(term2)\n",
    "        sum_i_control_variate += term2\n",
    "        sum_i_control_variate_squared += term2 ** 2\n",
    "\n",
    "    i_control_variate_2 = sum_i_control_variate / n  \n",
    "\n",
    "    \n",
    "    var_i_control_variate_2 = np.var(term_list2) / n #(sum_i_control_variate_squared / n - (i_control_variate) ** 2) / n\n",
    "\n",
    "    return i_control_variate_2, var_i_control_variate_2\n",
    "\n",
    "a = -1\n",
    "b = 3\n",
    "n = 100000\n",
    "h = h2\n",
    "H = H2\n",
    "\n",
    "result_control_variate_2, variance_control_variate_2 = mc_control_variate(f, a, b, n, h, H)\n",
    "\n",
    "print(\"I_n^_control_variate =\", result_control_variate_2)\n",
    "print(\"Var(I_n^_control_variate) =\", variance_control_variate_2)"
   ]
  },
  {
   "cell_type": "markdown",
   "metadata": {},
   "source": [
    "d) Using $I_n^{ControlVariate}$, $n = 100000$ samples, $a = 1-$ and $b = 3$ report the following metrics in a pandas DataFrame object."
   ]
  },
  {
   "cell_type": "code",
   "execution_count": 12,
   "metadata": {},
   "outputs": [
    {
     "name": "stdout",
     "output_type": "stream",
     "text": [
      "    integral_true  integral_estimate  difference  sigma^2_estimate/n  \\\n",
      "h1      70.666667          70.668019   -0.001353            0.202541   \n",
      "h2      70.666667          70.711884   -0.045217            0.013779   \n",
      "\n",
      "    sigma^estimate  \n",
      "h1    20254.091433  \n",
      "h2     1377.862898  \n"
     ]
    }
   ],
   "source": [
    "idx = ('h1', 'h2')\n",
    "\n",
    "data_control_variate = {'integral_true': [integral_true],\n",
    "        'integral_estimate': [result_control_variate_1, result_control_variate_2],\n",
    "        'difference': [integral_true - result_control_variate_1, integral_true - result_control_variate_2],\n",
    "        'sigma^2_estimate/n': [variance_control_variate_1, variance_control_variate_2],\n",
    "        'sigma^estimate': [variance_control_variate_1*n, variance_control_variate_2*n],\n",
    "        }\n",
    "df_control_variate = pd.DataFrame(data_control_variate, index = idx)\n",
    "\n",
    "\n",
    "print(df_control_variate)"
   ]
  },
  {
   "cell_type": "markdown",
   "metadata": {},
   "source": [
    "e) Which of $h1$ or $h2$ is the better control variate? Why? Use a graph if you need to support your answer."
   ]
  },
  {
   "cell_type": "code",
   "execution_count": 13,
   "metadata": {},
   "outputs": [
    {
     "name": "stdout",
     "output_type": "stream",
     "text": [
      "[19.9999148  14.8095814  19.52595199 17.86676234 13.31071173 15.47783499\n",
      " 19.90371072 14.33670242 13.70456344 15.15208777]\n"
     ]
    },
    {
     "data": {
      "image/png": "[encoded data removed]",
      "text/plain": [
       "<Figure size 640x480 with 1 Axes>"
      ]
     },
     "metadata": {},
     "output_type": "display_data"
    }
   ],
   "source": [
    "xi = np.random.uniform(-1, 3, 10)\n",
    "print(f(xi))\n",
    "plt.plot(f(xi), label='f(x)', color = 'red')\n",
    "plt.plot(h1(xi), label='h1', color = 'yellow')\n",
    "plt.plot(h2(xi), label='h2', color = 'blue')\n",
    "plt.title('f(x), h1, h2')\n",
    "plt.grid()\n",
    "plt.legend()\n",
    "plt.show()"
   ]
  },
  {
   "cell_type": "markdown",
   "metadata": {},
   "source": [
    "h1 is much more closer to f(x)"
   ]
  },
  {
   "cell_type": "markdown",
   "metadata": {},
   "source": [
    "f) How do your results compare to the basic estimate? Is this what you expect?"
   ]
  },
  {
   "cell_type": "code",
   "execution_count": 19,
   "metadata": {},
   "outputs": [
    {
     "name": "stdout",
     "output_type": "stream",
     "text": [
      "       integral_true  integral_estimate  difference  sigma^2_estimate/n  \\\n",
      "Basic      70.666667          70.602656    0.064011            0.001087   \n",
      "h1         70.666667          70.668019   -0.001353            0.202541   \n",
      "h2         70.666667          70.711884   -0.045217            0.013779   \n",
      "\n",
      "       sigma^estimate  \n",
      "Basic      108.694851  \n",
      "h1       20254.091433  \n",
      "h2        1377.862898  \n"
     ]
    }
   ],
   "source": [
    "idx = ('Basic','h1', 'h2')\n",
    "\n",
    "data_control_variate = {'integral_true': [integral_true],\n",
    "        'integral_estimate': [result, result_control_variate_1, result_control_variate_2],\n",
    "        'difference': [integral_true - result, integral_true - result_control_variate_1, integral_true - result_control_variate_2],\n",
    "        'sigma^2_estimate/n': [variance, variance_control_variate_1, variance_control_variate_2],\n",
    "        'sigma^estimate': [variance*n, variance_control_variate_1*n, variance_control_variate_2*n],\n",
    "        }\n",
    "df_control_variate = pd.DataFrame(data_control_variate, index = idx)\n",
    "\n",
    "\n",
    "print(df_control_variate)"
   ]
  },
  {
   "cell_type": "markdown",
   "metadata": {},
   "source": [
    "According to the above, h1 is still better."
   ]
  },
  {
   "cell_type": "markdown",
   "metadata": {},
   "source": [
    "$$5.\\; Importance\\; Sampling$$"
   ]
  },
  {
   "cell_type": "markdown",
   "metadata": {},
   "source": [
    "a) What is $\\mathbb{E}p[I_n^{Importance}]$?"
   ]
  },
  {
   "cell_type": "markdown",
   "metadata": {},
   "source": [
    "$I_n^{Importance} = \\frac{1}{n}\\sum\\limits_{i=1}^n \\frac{f(x_i)}{p(x_i)}$"
   ]
  },
  {
   "cell_type": "markdown",
   "metadata": {},
   "source": [
    "b) Create a function to compute $I_n^{Importance}$ over an interval $a$, $b$ for number of samples $n$. The function signature should be:"
   ]
  },
  {
   "cell_type": "code",
   "execution_count": 14,
   "metadata": {},
   "outputs": [],
   "source": [
    "def mc_importance(f: Callable[[float], float], a: float, b: float, n: int, sigma: float) -> tuple[float, float, float]:\n",
    "    I_importance = 0\n",
    "    var_importance = 0\n",
    "   \n",
    "   \n",
    "    x_i = np.random.normal(loc = 0.0, scale = sigma, size = n)\n",
    "    x_i_used = x_i[(x_i >= a) & (x_i<=b)]\n",
    "    n_used = len(x_i_used)\n",
    "    \n",
    "    scaling_factor = norm.cdf(b, loc = 0, scale = sigma ) - norm.cdf(a, loc = 0, scale = sigma)\n",
    "    \n",
    "    p_x = norm.pdf(x_i_used, loc = 0, scale = sigma)\n",
    "    p_scaled = p_x/scaling_factor\n",
    "\n",
    "    f_x = [f(x_i) for x_i in x_i_used]\n",
    "    term = [f_x[i]/p_scaled[i] for i in range(n_used)]\n",
    "    sum_term = np.sum(term)\n",
    "    I_importance = (1 / n_used) * sum_term\n",
    "    var_importance = (1 / n_used) * np.var(term)\n",
    "\n",
    "    return I_importance, var_importance, n_used"
   ]
  },
  {
   "cell_type": "code",
   "execution_count": 15,
   "metadata": {},
   "outputs": [],
   "source": [
    "a = -1\n",
    "b = 3\n",
    "n = 100000\n",
    "\n",
    "\n",
    "i_imp_l = []\n",
    "var_imp_l = []\n",
    "n_used_l = []\n",
    "sigma_val = range(1,11)\n",
    "for i in sigma_val:\n",
    "    i_imp, var_imp,n_used = mc_importance(f,a,b,n,i)\n",
    "    i_imp_l.append(i_imp)\n",
    "    var_imp_l.append(var_imp)\n",
    "    n_used_l.append(n_used)\n",
    "\n",
    "sigma_estimate = [n_used_l[i]*var_imp_l[i] for i in range(len(n_used_l))]\n",
    "difference = [integral_true - i_imp_l[i] for i in range(len(i_imp_l))]"
   ]
  },
  {
   "cell_type": "markdown",
   "metadata": {},
   "source": [
    "c) Using $I_n^{Importance}$ $a = 1-$, $b = 3$ and 10 different normal distributions each with $\\mu = 0$ and varying"
   ]
  },
  {
   "cell_type": "code",
   "execution_count": 16,
   "metadata": {},
   "outputs": [
    {
     "name": "stdout",
     "output_type": "stream",
     "text": [
      "    integral_true  integral_estimate  difference  sigma^2_estimate/n  \\\n",
      "1       70.666667          70.802195   -0.135528            0.116565   \n",
      "2       70.666667          70.679652   -0.012985            0.001833   \n",
      "3       70.666667          70.674728   -0.008061            0.000033   \n",
      "4       70.666667          70.641670    0.024997            0.000712   \n",
      "5       70.666667          70.663823    0.002844            0.001626   \n",
      "6       70.666667          70.705209   -0.038542            0.002522   \n",
      "7       70.666667          70.687955   -0.021289            0.003327   \n",
      "8       70.666667          70.704961   -0.038294            0.004202   \n",
      "9       70.666667          70.754315   -0.087649            0.004921   \n",
      "10      70.666667          70.776508   -0.109841            0.005689   \n",
      "\n",
      "    sigma^estimate  n_used  \n",
      "1      9814.667545   84199  \n",
      "2       114.359081   62390  \n",
      "3         1.563115   46992  \n",
      "4        26.382758   37061  \n",
      "5        49.271760   30302  \n",
      "6        64.515063   25580  \n",
      "7        74.939534   22523  \n",
      "8        82.128129   19543  \n",
      "9        85.539669   17383  \n",
      "10       90.256784   15866  \n"
     ]
    }
   ],
   "source": [
    "idx = range(1,11)\n",
    "data_basic = {'integral_true': integral_true,\n",
    "        'integral_estimate': i_imp_l,\n",
    "        'difference': difference,\n",
    "        'sigma^2_estimate/n': var_imp_l,\n",
    "        'sigma^estimate': sigma_estimate,\n",
    "        'n_used': n_used_l\n",
    "        }\n",
    "df_basic = pd.DataFrame(data_basic, index = idx)\n",
    "\n",
    "print(df_basic)"
   ]
  },
  {
   "cell_type": "markdown",
   "metadata": {},
   "source": [
    "d) Which of the 10 importance sampling estimators is best? Why? Use a graph if you need to support your answer."
   ]
  },
  {
   "cell_type": "code",
   "execution_count": 17,
   "metadata": {},
   "outputs": [
    {
     "data": {
      "image/png": "[encoded data removed]",
      "text/plain": [
       "<Figure size 640x480 with 1 Axes>"
      ]
     },
     "metadata": {},
     "output_type": "display_data"
    }
   ],
   "source": [
    "plt.plot(idx, var_imp_l, color = 'red')\n",
    "plt.grid()\n"
   ]
  },
  {
   "cell_type": "markdown",
   "metadata": {},
   "source": [
    "According to the data frame and graph above, 3 is the closest."
   ]
  },
  {
   "cell_type": "markdown",
   "metadata": {},
   "source": [
    "e) How do your results compare to the basic estimate? Is this what you expect?"
   ]
  },
  {
   "cell_type": "code",
   "execution_count": 18,
   "metadata": {},
   "outputs": [
    {
     "name": "stdout",
     "output_type": "stream",
     "text": [
      "         integral_true  integral_estimate  difference  sigma^2_estimate/n  \\\n",
      "Basic        70.666667          70.602656    0.064011            0.001087   \n",
      "Sigma_3      70.666667          70.641670    0.024997            0.000712   \n",
      "\n",
      "         sigma^estimate  \n",
      "Basic        108.694851  \n",
      "Sigma_3       26.382758  \n"
     ]
    }
   ],
   "source": [
    "idx = [\"Basic\", \"Sigma_3\"]\n",
    "data_basic = {'integral_true': [integral_true],\n",
    "        'integral_estimate': [result, i_imp_l[3]],\n",
    "        'difference': [integral_true - result, integral_true - i_imp_l[3]],\n",
    "        'sigma^2_estimate/n': [variance, var_imp_l[3]],\n",
    "        'sigma^estimate': [variance*n, n_used_l[3]*var_imp_l[3]],\n",
    "        }\n",
    "df_basic = pd.DataFrame(data_basic, idx)\n",
    "\n",
    "print(df_basic)"
   ]
  }
 ],
 "metadata": {
  "kernelspec": {
   "display_name": "base",
   "language": "python",
   "name": "python3"
  },
  "language_info": {
   "codemirror_mode": {
    "name": "ipython",
    "version": 3
   },
   "file_extension": ".py",
   "mimetype": "text/x-python",
   "name": "python",
   "nbconvert_exporter": "python",
   "pygments_lexer": "ipython3",
   "version": "3.11.4"
  },
  "orig_nbformat": 4
 },
 "nbformat": 4,
 "nbformat_minor": 2
}
